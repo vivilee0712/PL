{
 "cells": [
  {
   "cell_type": "code",
   "execution_count": 2,
   "id": "10162248",
   "metadata": {},
   "outputs": [],
   "source": [
    "#抓取ptt stock看板的網址\n",
    "import urllib.request as req\n",
    "import json\n",
    "import pandas as pd\n",
    "import numpy\n",
    "#輸入要爬的網頁網址 這邊輸入的是ptt的網址\n",
    "url= \"https://www.ptt.cc/bbs/cat/index.html\"\n",
    "\n",
    "#建立一個Request物件，附加Request Headers的資訊 (讓被使用的網頁知道你的作業系統等使用者資訊)\n",
    "request=req.Request(url, headers={\n",
    "    \"User-Agent\":\"Mozilla/5.0 (Windows NT 10.0; Win64; x64) AppleWebKit/537.36 (KHTML, like Gecko) Chrome/106.0.0.0 Safari/537.36\"\n",
    "})"
   ]
  },
  {
   "cell_type": "code",
   "execution_count": 3,
   "id": "fa022fee",
   "metadata": {},
   "outputs": [
    {
     "name": "stdout",
     "output_type": "stream",
     "text": [
      "[交易/買賣] 貓侍主食罐出清\n",
      "[交易/買賣] 皇家AN24處方 法米納結石處方\n",
      "[交易/二手] 貓咪護欄也可當臨時隔離籠（售出）\n",
      "[徵求/中壢] 三層or四層大貓籠\n",
      "[交易/台中] 鯊魚貓窩\n",
      "[交易] 三呎貓籠\n",
      "[問題] 貓貓喜歡舔臭腳交，要給她舔嗎???\n",
      "[認養] 台北市5歲6kg囂張胖橘\n",
      "[認養] 彰化/水溝撈起的幼貓們（黑/賓士/虎斑）\n",
      "[問題] 凍乾含骨頭問題\n",
      "[問題] 主子身上很像有跳蚤大便，該怎麼處理\n",
      "[交易/買賣]愛喜雅健康軟包/蘇活沙美S/妥善專科\n",
      "[交易] ［交易/贈送］送外出籠及一些小東西\n",
      "[交易/雙和]質感很好的可調斜度貓樓梯 \n",
      "[交易/買賣] 愛肯拿-無穀雞肉蔓越莓\n",
      "[交易/台北] 深度睡眠窩/崩解型松木砂\n",
      "[問題] 我家的貓有異食癖會吃頭髮\n",
      "[公告] 全台夜間急診醫院名單\n",
      "[公告] 貓板發文須知與板規(修)\n",
      "[公告] 給救援浪貓與養貓新手--快速學習指南(新)\n"
     ]
    }
   ],
   "source": [
    "#將網頁原始碼讀出\n",
    "with req.urlopen(request) as response:\n",
    "    data=response.read().decode(\"utf-8\")\n",
    "    \n",
    "#將帶有標題的資料篩出，其他去掉\n",
    "import bs4\n",
    "root=bs4.BeautifulSoup(data, \"html.parser\")\n",
    "titles=root.find_all(\"div\", class_=\"title\")\n",
    "for title in titles:\n",
    "    if title.a !=None:\n",
    "        print(title.a.string)    "
   ]
  },
  {
   "cell_type": "code",
   "execution_count": 4,
   "id": "23262269",
   "metadata": {},
   "outputs": [
    {
     "data": {
      "text/plain": [
       "['[交易/買賣] 貓侍主食罐出清',\n",
       " '[交易/買賣] 皇家AN24處方 法米納結石處方',\n",
       " '[交易/二手] 貓咪護欄也可當臨時隔離籠（售出）',\n",
       " '[徵求/中壢] 三層or四層大貓籠',\n",
       " '[交易/台中] 鯊魚貓窩',\n",
       " '[交易] 三呎貓籠',\n",
       " '[問題] 貓貓喜歡舔臭腳交，要給她舔嗎???',\n",
       " '[認養] 台北市5歲6kg囂張胖橘',\n",
       " '[認養] 彰化/水溝撈起的幼貓們（黑/賓士/虎斑）',\n",
       " '[問題] 凍乾含骨頭問題',\n",
       " '[問題] 主子身上很像有跳蚤大便，該怎麼處理',\n",
       " '[交易/買賣]愛喜雅健康軟包/蘇活沙美S/妥善專科',\n",
       " '[交易] ［交易/贈送］送外出籠及一些小東西',\n",
       " '[交易/雙和]質感很好的可調斜度貓樓梯 ',\n",
       " '[交易/買賣] 愛肯拿-無穀雞肉蔓越莓',\n",
       " '[交易/台北] 深度睡眠窩/崩解型松木砂',\n",
       " '[問題] 我家的貓有異食癖會吃頭髮',\n",
       " '[公告] 全台夜間急診醫院名單',\n",
       " '[公告] 貓板發文須知與板規(修)',\n",
       " '[公告] 給救援浪貓與養貓新手--快速學習指南(新)']"
      ]
     },
     "execution_count": 4,
     "metadata": {},
     "output_type": "execute_result"
    }
   ],
   "source": [
    "#放入有效的資料\n",
    "temp = []\n",
    "for title in titles:\n",
    "    if title.a !=None:\n",
    "        temp.append(title.a.string)\n",
    "\n",
    "temp"
   ]
  },
  {
   "cell_type": "code",
   "execution_count": 5,
   "id": "76e86c54",
   "metadata": {},
   "outputs": [
    {
     "name": "stdout",
     "output_type": "stream",
     "text": [
      "                             0\n",
      "0              [交易/買賣] 貓侍主食罐出清\n",
      "1     [交易/買賣] 皇家AN24處方 法米納結石處方\n",
      "2     [交易/二手] 貓咪護欄也可當臨時隔離籠（售出）\n",
      "3            [徵求/中壢] 三層or四層大貓籠\n",
      "4                 [交易/台中] 鯊魚貓窩\n",
      "5                    [交易] 三呎貓籠\n",
      "6       [問題] 貓貓喜歡舔臭腳交，要給她舔嗎???\n",
      "7            [認養] 台北市5歲6kg囂張胖橘\n",
      "8    [認養] 彰化/水溝撈起的幼貓們（黑/賓士/虎斑）\n",
      "9                 [問題] 凍乾含骨頭問題\n",
      "10      [問題] 主子身上很像有跳蚤大便，該怎麼處理\n",
      "11   [交易/買賣]愛喜雅健康軟包/蘇活沙美S/妥善專科\n",
      "12      [交易] ［交易/贈送］送外出籠及一些小東西\n",
      "13        [交易/雙和]質感很好的可調斜度貓樓梯 \n",
      "14         [交易/買賣] 愛肯拿-無穀雞肉蔓越莓\n",
      "15        [交易/台北] 深度睡眠窩/崩解型松木砂\n",
      "16           [問題] 我家的貓有異食癖會吃頭髮\n",
      "17             [公告] 全台夜間急診醫院名單\n",
      "18           [公告] 貓板發文須知與板規(修)\n",
      "19  [公告] 給救援浪貓與養貓新手--快速學習指南(新)\n"
     ]
    }
   ],
   "source": [
    "#轉成dataframe\n",
    "df = pd.DataFrame(temp)\n",
    "print(df)"
   ]
  },
  {
   "cell_type": "code",
   "execution_count": 6,
   "id": "9e4df887",
   "metadata": {},
   "outputs": [
    {
     "name": "stdout",
     "output_type": "stream",
     "text": [
      "\"[交易/買賣] 貓侍主食罐出清\"\n",
      "\"[交易/買賣] 皇家AN24處方 法米納結石處方\"\n",
      "\"[交易/二手] 貓咪護欄也可當臨時隔離籠（售出）\"\n",
      "\"[徵求/中壢] 三層or四層大貓籠\"\n",
      "\"[交易/台中] 鯊魚貓窩\"\n",
      "\"[交易] 三呎貓籠\"\n",
      "\"[問題] 貓貓喜歡舔臭腳交，要給她舔嗎???\"\n",
      "\"[認養] 台北市5歲6kg囂張胖橘\"\n",
      "\"[認養] 彰化/水溝撈起的幼貓們（黑/賓士/虎斑）\"\n",
      "\"[問題] 凍乾含骨頭問題\"\n",
      "\"[問題] 主子身上很像有跳蚤大便，該怎麼處理\"\n",
      "\"[交易/買賣]愛喜雅健康軟包/蘇活沙美S/妥善專科\"\n",
      "\"[交易] ［交易/贈送］送外出籠及一些小東西\"\n",
      "\"[交易/雙和]質感很好的可調斜度貓樓梯 \"\n",
      "\"[交易/買賣] 愛肯拿-無穀雞肉蔓越莓\"\n",
      "\"[交易/台北] 深度睡眠窩/崩解型松木砂\"\n",
      "\"[問題] 我家的貓有異食癖會吃頭髮\"\n",
      "\"[公告] 全台夜間急診醫院名單\"\n",
      "\"[公告] 貓板發文須知與板規(修)\"\n",
      "\"[公告] 給救援浪貓與養貓新手--快速學習指南(新)\"\n"
     ]
    }
   ],
   "source": [
    "# 轉成csv檔\n",
    "temp = []\n",
    "for title in titles:\n",
    "    if title.a !=None: # 如果標題包含 a 標籤(仍存在於網頁上)，就印出來\n",
    "        finish = title.a.string \n",
    "        json_dict = json.dumps(finish,ensure_ascii=False).encode('utf8')\n",
    "        decode = json_dict.decode()\n",
    "        temp.append(decode)\n",
    "        print(decode)"
   ]
  },
  {
   "cell_type": "code",
   "execution_count": 7,
   "id": "5af813bc",
   "metadata": {},
   "outputs": [
    {
     "data": {
      "text/plain": [
       "{0: {0: '[交易/買賣] 貓侍主食罐出清',\n",
       "  1: '[交易/買賣] 皇家AN24處方 法米納結石處方',\n",
       "  2: '[交易/二手] 貓咪護欄也可當臨時隔離籠（售出）',\n",
       "  3: '[徵求/中壢] 三層or四層大貓籠',\n",
       "  4: '[交易/台中] 鯊魚貓窩',\n",
       "  5: '[交易] 三呎貓籠',\n",
       "  6: '[問題] 貓貓喜歡舔臭腳交，要給她舔嗎???',\n",
       "  7: '[認養] 台北市5歲6kg囂張胖橘',\n",
       "  8: '[認養] 彰化/水溝撈起的幼貓們（黑/賓士/虎斑）',\n",
       "  9: '[問題] 凍乾含骨頭問題',\n",
       "  10: '[問題] 主子身上很像有跳蚤大便，該怎麼處理',\n",
       "  11: '[交易/買賣]愛喜雅健康軟包/蘇活沙美S/妥善專科',\n",
       "  12: '[交易] ［交易/贈送］送外出籠及一些小東西',\n",
       "  13: '[交易/雙和]質感很好的可調斜度貓樓梯 ',\n",
       "  14: '[交易/買賣] 愛肯拿-無穀雞肉蔓越莓',\n",
       "  15: '[交易/台北] 深度睡眠窩/崩解型松木砂',\n",
       "  16: '[問題] 我家的貓有異食癖會吃頭髮',\n",
       "  17: '[公告] 全台夜間急診醫院名單',\n",
       "  18: '[公告] 貓板發文須知與板規(修)',\n",
       "  19: '[公告] 給救援浪貓與養貓新手--快速學習指南(新)'}}"
      ]
     },
     "execution_count": 7,
     "metadata": {},
     "output_type": "execute_result"
    }
   ],
   "source": [
    "# 將 DataFrame 轉為 Dictionary\n",
    "temp = df.to_dict()\n",
    "type(temp)\n",
    "temp"
   ]
  },
  {
   "cell_type": "code",
   "execution_count": 10,
   "id": "53a8a6cd",
   "metadata": {},
   "outputs": [
    {
     "name": "stdout",
     "output_type": "stream",
     "text": [
      "json下載完成!\n"
     ]
    }
   ],
   "source": [
    "# 將 Dictionary 轉成 json檔並下載\n",
    "with open('Cat_PTT.json', 'w', encoding='utf-8') as file:\n",
    "    json.dump(temp, file, ensure_ascii=False)  \n",
    "    \n",
    "print(\"json下載完成!\")"
   ]
  }
 ],
 "metadata": {
  "kernelspec": {
   "display_name": "Python 3 (ipykernel)",
   "language": "python",
   "name": "python3"
  },
  "language_info": {
   "codemirror_mode": {
    "name": "ipython",
    "version": 3
   },
   "file_extension": ".py",
   "mimetype": "text/x-python",
   "name": "python",
   "nbconvert_exporter": "python",
   "pygments_lexer": "ipython3",
   "version": "3.9.12"
  }
 },
 "nbformat": 4,
 "nbformat_minor": 5
}
