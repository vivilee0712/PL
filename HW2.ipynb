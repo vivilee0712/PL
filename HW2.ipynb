{
 "cells": [
  {
   "cell_type": "code",
   "execution_count": 1,
   "id": "f2c73639",
   "metadata": {},
   "outputs": [],
   "source": [
    "import json"
   ]
  },
  {
   "cell_type": "code",
   "execution_count": 2,
   "id": "3b383fec",
   "metadata": {},
   "outputs": [
    {
     "data": {
      "text/plain": [
       "dict"
      ]
     },
     "execution_count": 2,
     "metadata": {},
     "output_type": "execute_result"
    }
   ],
   "source": [
    "#打開JYPE的女團成員資料\n",
    "test = open('JYPs_girlgroup.json',encoding=\"utf8\")\n",
    "Data = json.load(test)\n",
    "type(Data)"
   ]
  },
  {
   "cell_type": "code",
   "execution_count": 3,
   "id": "c56c550e",
   "metadata": {},
   "outputs": [
    {
     "data": {
      "text/plain": [
       "dict_items([('company', 'JYPE'), ('founded', 1997), ('girl_group_count', 3), ('girl_group_member_count', 21), ('members', [{'Name': 'Nayeon', 'Position': '領唱、領舞', 'Age': 27, 'Sign': 'Virgo', 'Nation': 'South Korea'}, {'Name': 'Jeongyeon', 'Position': '領唱', 'Age': 25, 'Sign': 'Scorpio', 'Nation': 'South Korea'}, {'Name': 'Momo', 'Position': '主舞、副唱、副Rapper', 'Age': 25, 'Sign': 'Scorpio', 'Nation': 'Japan'}, {'Name': 'Sana', 'Position': '副唱', 'Age': 25, 'Sign': 'Capricorn', 'Nation': 'Japan'}, {'Name': 'Jihyo', 'Position': '隊長、主唱', 'Age': 25, 'Sign': 'Aquarius', 'Nation': 'South Korea'}, {'Name': 'Mina', 'Position': '副唱、主舞', 'Age': 25, 'Sign': 'Aries', 'Nation': 'Japan'}, {'Name': 'Dahyun', 'Position': '副唱、領Rapper', 'Age': 24, 'Sign': 'Gemini', 'Nation': 'South Korea'}, {'Name': 'Chaeyoung', 'Position': '副唱、主Rapper', 'Age': 23, 'Sign': 'Taurus', 'Nation': 'South Korea'}, {'Name': 'Tzuyu', 'Position': '副唱、領舞、忙內', 'Age': 23, 'Sign': 'Gemini', 'Nation': 'Taiwan'}, {'Name': 'Lia', 'Position': '主唱', 'Age': 22, 'Sign': 'Cancer', 'Nation': 'South Korea'}, {'Name': 'Yeji', 'Position': '隊長、領唱、主領舞、副Rapper', 'Age': 22, 'Sign': 'Gemini', 'Nation': 'South Korea'}, {'Name': 'Ryujin', 'Position': '副唱、主Rapper、領舞、中心', 'Age': 21, 'Sign': 'Aries', 'Nation': 'South Korea'}, {'Name': 'Chaeryeong', 'Position': '副唱、主領舞、副Rapper', 'Age': 21, 'Sign': 'Gemini', 'Nation': 'South Korea'}, {'Name': 'Yuna', 'Position': '副唱、領舞、領rapper、忙內、門面', 'Age': 18, 'Sign': 'Sagittarius', 'Nation': 'South Korea'}, {'Name': 'Haewon', 'Age': 19, 'Sign': 'Pisces', 'Nation': 'South Korea'}, {'Name': 'Lily', 'Age': 20, 'Sign': 'Libra', 'Nation': 'Victoria'}, {'Name': 'Sullyoon', 'Age': 18, 'Sign': 'Aquarius', 'Nation': 'South Korea'}, {'Name': 'Jinni', 'Age': 18, 'Sign': 'Aries', 'Nation': 'South Korea'}, {'Name': 'Bae', 'Age': 17, 'Sign': 'Capricorn', 'Nation': 'South Korea'}, {'Name': 'Jiwoo', 'Age': 17, 'Sign': 'Aries', 'Nation': 'South Korea'}, {'Name': 'Kyujin', 'Age': 16, 'Sign': 'Gemini', 'Nation': 'South Korea'}])])"
      ]
     },
     "execution_count": 3,
     "metadata": {},
     "output_type": "execute_result"
    }
   ],
   "source": [
    "Data.items()"
   ]
  },
  {
   "cell_type": "code",
   "execution_count": 4,
   "id": "eab2e956",
   "metadata": {},
   "outputs": [
    {
     "data": {
      "text/plain": [
       "[{'Name': 'Nayeon',\n",
       "  'Position': '領唱、領舞',\n",
       "  'Age': 27,\n",
       "  'Sign': 'Virgo',\n",
       "  'Nation': 'South Korea'},\n",
       " {'Name': 'Jeongyeon',\n",
       "  'Position': '領唱',\n",
       "  'Age': 25,\n",
       "  'Sign': 'Scorpio',\n",
       "  'Nation': 'South Korea'},\n",
       " {'Name': 'Momo',\n",
       "  'Position': '主舞、副唱、副Rapper',\n",
       "  'Age': 25,\n",
       "  'Sign': 'Scorpio',\n",
       "  'Nation': 'Japan'},\n",
       " {'Name': 'Sana',\n",
       "  'Position': '副唱',\n",
       "  'Age': 25,\n",
       "  'Sign': 'Capricorn',\n",
       "  'Nation': 'Japan'},\n",
       " {'Name': 'Jihyo',\n",
       "  'Position': '隊長、主唱',\n",
       "  'Age': 25,\n",
       "  'Sign': 'Aquarius',\n",
       "  'Nation': 'South Korea'},\n",
       " {'Name': 'Mina',\n",
       "  'Position': '副唱、主舞',\n",
       "  'Age': 25,\n",
       "  'Sign': 'Aries',\n",
       "  'Nation': 'Japan'},\n",
       " {'Name': 'Dahyun',\n",
       "  'Position': '副唱、領Rapper',\n",
       "  'Age': 24,\n",
       "  'Sign': 'Gemini',\n",
       "  'Nation': 'South Korea'},\n",
       " {'Name': 'Chaeyoung',\n",
       "  'Position': '副唱、主Rapper',\n",
       "  'Age': 23,\n",
       "  'Sign': 'Taurus',\n",
       "  'Nation': 'South Korea'},\n",
       " {'Name': 'Tzuyu',\n",
       "  'Position': '副唱、領舞、忙內',\n",
       "  'Age': 23,\n",
       "  'Sign': 'Gemini',\n",
       "  'Nation': 'Taiwan'},\n",
       " {'Name': 'Lia',\n",
       "  'Position': '主唱',\n",
       "  'Age': 22,\n",
       "  'Sign': 'Cancer',\n",
       "  'Nation': 'South Korea'},\n",
       " {'Name': 'Yeji',\n",
       "  'Position': '隊長、領唱、主領舞、副Rapper',\n",
       "  'Age': 22,\n",
       "  'Sign': 'Gemini',\n",
       "  'Nation': 'South Korea'},\n",
       " {'Name': 'Ryujin',\n",
       "  'Position': '副唱、主Rapper、領舞、中心',\n",
       "  'Age': 21,\n",
       "  'Sign': 'Aries',\n",
       "  'Nation': 'South Korea'},\n",
       " {'Name': 'Chaeryeong',\n",
       "  'Position': '副唱、主領舞、副Rapper',\n",
       "  'Age': 21,\n",
       "  'Sign': 'Gemini',\n",
       "  'Nation': 'South Korea'},\n",
       " {'Name': 'Yuna',\n",
       "  'Position': '副唱、領舞、領rapper、忙內、門面',\n",
       "  'Age': 18,\n",
       "  'Sign': 'Sagittarius',\n",
       "  'Nation': 'South Korea'},\n",
       " {'Name': 'Haewon', 'Age': 19, 'Sign': 'Pisces', 'Nation': 'South Korea'},\n",
       " {'Name': 'Lily', 'Age': 20, 'Sign': 'Libra', 'Nation': 'Victoria'},\n",
       " {'Name': 'Sullyoon', 'Age': 18, 'Sign': 'Aquarius', 'Nation': 'South Korea'},\n",
       " {'Name': 'Jinni', 'Age': 18, 'Sign': 'Aries', 'Nation': 'South Korea'},\n",
       " {'Name': 'Bae', 'Age': 17, 'Sign': 'Capricorn', 'Nation': 'South Korea'},\n",
       " {'Name': 'Jiwoo', 'Age': 17, 'Sign': 'Aries', 'Nation': 'South Korea'},\n",
       " {'Name': 'Kyujin', 'Age': 16, 'Sign': 'Gemini', 'Nation': 'South Korea'}]"
      ]
     },
     "execution_count": 4,
     "metadata": {},
     "output_type": "execute_result"
    }
   ],
   "source": [
    "#所有成員的名單以及資料\n",
    "temp = Data.get('members')\n",
    "temp"
   ]
  },
  {
   "cell_type": "code",
   "execution_count": 5,
   "id": "5d47b7cb",
   "metadata": {},
   "outputs": [
    {
     "name": "stdout",
     "output_type": "stream",
     "text": [
      "Yuna is 18 years old\n"
     ]
    }
   ],
   "source": [
    "#查詢成員年紀\n",
    "ask = \"Yuna\"\n",
    "for i in temp:\n",
    "    if ask == i.get('Name'):\n",
    "        print(ask, 'is', i.get('Age'), 'years old') "
   ]
  },
  {
   "cell_type": "code",
   "execution_count": 6,
   "id": "05e98c48",
   "metadata": {},
   "outputs": [
    {
     "data": {
      "text/plain": [
       "[27,\n",
       " 25,\n",
       " 25,\n",
       " 25,\n",
       " 25,\n",
       " 25,\n",
       " 24,\n",
       " 23,\n",
       " 23,\n",
       " 22,\n",
       " 22,\n",
       " 21,\n",
       " 21,\n",
       " 18,\n",
       " 19,\n",
       " 20,\n",
       " 18,\n",
       " 18,\n",
       " 17,\n",
       " 17,\n",
       " 16]"
      ]
     },
     "execution_count": 6,
     "metadata": {},
     "output_type": "execute_result"
    }
   ],
   "source": [
    "#排序所有女團成員的年紀\n",
    "allage = [ ]\n",
    "for i in temp:\n",
    "    allage.append(i.get('Age'))\n",
    "allage"
   ]
  },
  {
   "cell_type": "code",
   "execution_count": 7,
   "id": "c61d32c0",
   "metadata": {},
   "outputs": [
    {
     "data": {
      "text/plain": [
       "[(1, 27),\n",
       " (2, 25),\n",
       " (3, 25),\n",
       " (4, 25),\n",
       " (5, 25),\n",
       " (6, 25),\n",
       " (7, 24),\n",
       " (8, 23),\n",
       " (9, 23),\n",
       " (10, 22),\n",
       " (11, 22),\n",
       " (12, 21),\n",
       " (13, 21),\n",
       " (16, 20),\n",
       " (15, 19),\n",
       " (14, 18),\n",
       " (17, 18),\n",
       " (18, 18),\n",
       " (19, 17),\n",
       " (20, 17),\n",
       " (21, 16)]"
      ]
     },
     "execution_count": 7,
     "metadata": {},
     "output_type": "execute_result"
    }
   ],
   "source": [
    "allage_enumerate = enumerate(allage, start = 1)\n",
    "allage_enumerate_sorted = sorted(allage_enumerate, key = lambda s: s[1], reverse = True)\n",
    "allage_enumerate_sorted"
   ]
  },
  {
   "cell_type": "code",
   "execution_count": 8,
   "id": "fbc59a31",
   "metadata": {},
   "outputs": [
    {
     "data": {
      "text/plain": [
       "1"
      ]
     },
     "execution_count": 8,
     "metadata": {},
     "output_type": "execute_result"
    }
   ],
   "source": [
    "allage_enumerate_sorted[0][0]"
   ]
  },
  {
   "cell_type": "code",
   "execution_count": 9,
   "id": "e2895d12",
   "metadata": {},
   "outputs": [
    {
     "name": "stdout",
     "output_type": "stream",
     "text": [
      "Nayeon 是 27 歲\n",
      "Jeongyeon 是 25 歲\n",
      "Momo 是 25 歲\n",
      "Sana 是 25 歲\n",
      "Jihyo 是 25 歲\n",
      "Mina 是 25 歲\n",
      "Dahyun 是 24 歲\n",
      "Chaeyoung 是 23 歲\n",
      "Tzuyu 是 23 歲\n",
      "Lia 是 22 歲\n",
      "Yeji 是 22 歲\n",
      "Ryujin 是 21 歲\n",
      "Chaeryeong 是 21 歲\n",
      "Lily 是 20 歲\n",
      "Haewon 是 19 歲\n",
      "Yuna 是 18 歲\n",
      "Sullyoon 是 18 歲\n",
      "Jinni 是 18 歲\n",
      "Bae 是 17 歲\n",
      "Jiwoo 是 17 歲\n",
      "Kyujin 是 16 歲\n"
     ]
    }
   ],
   "source": [
    "# 印出由大到小排序過後的年紀還有名字\n",
    "for i in allage_enumerate_sorted:\n",
    "    j = i[0] - 1\n",
    "    print(temp[j].get('Name'), '是', temp[j].get('Age'), '歲')"
   ]
  }
 ],
 "metadata": {
  "kernelspec": {
   "display_name": "Python 3 (ipykernel)",
   "language": "python",
   "name": "python3"
  },
  "language_info": {
   "codemirror_mode": {
    "name": "ipython",
    "version": 3
   },
   "file_extension": ".py",
   "mimetype": "text/x-python",
   "name": "python",
   "nbconvert_exporter": "python",
   "pygments_lexer": "ipython3",
   "version": "3.9.12"
  }
 },
 "nbformat": 4,
 "nbformat_minor": 5
}
