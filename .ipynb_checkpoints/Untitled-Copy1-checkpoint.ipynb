{
 "cells": [
  {
   "cell_type": "code",
   "execution_count": 2,
   "id": "803f0fac",
   "metadata": {},
   "outputs": [],
   "source": [
    "import pandas as pd\n",
    "\n",
    "# read csv file\n",
    "environmental_freindly_data = pd.read_csv(\"environmental_freindly_data.csv\")"
   ]
  },
  {
   "cell_type": "code",
   "execution_count": 3,
   "id": "721ac0b8",
   "metadata": {
    "scrolled": true
   },
   "outputs": [
    {
     "name": "stdout",
     "output_type": "stream",
     "text": [
      "樣本數: 1000\n"
     ]
    }
   ],
   "source": [
    "source = list(environmental_freindly_data['itemname'])\n",
    "print(\"樣本數:\", len(source))"
   ]
  },
  {
   "cell_type": "code",
   "execution_count": 18,
   "id": "6dbf0566",
   "metadata": {},
   "outputs": [
    {
     "name": "stdout",
     "output_type": "stream",
     "text": [
      "<class 'pandas.core.frame.DataFrame'>\n",
      "RangeIndex: 1000 entries, 0 to 999\n",
      "Data columns (total 6 columns):\n",
      " #   Column     Non-Null Count  Dtype  \n",
      "---  ------     --------------  -----  \n",
      " 0   itemname   1000 non-null   object \n",
      " 1   category   1000 non-null   object \n",
      " 2   year       1000 non-null   int64  \n",
      " 3   month      1000 non-null   int64  \n",
      " 4   itemunit   1000 non-null   object \n",
      " 5   itemvalue  1000 non-null   float64\n",
      "dtypes: float64(1), int64(2), object(3)\n",
      "memory usage: 47.0+ KB\n"
     ]
    },
    {
     "data": {
      "text/plain": [
       "(1000, 6)"
      ]
     },
     "execution_count": 18,
     "metadata": {},
     "output_type": "execute_result"
    }
   ],
   "source": [
    "# 輸入資料概況\n",
    "environmental_freindly_data.info()\n",
    "environmental_freindly_data.describe()\n",
    "environmental_freindly_data.shape"
   ]
  },
  {
   "cell_type": "code",
   "execution_count": 11,
   "id": "a3264669",
   "metadata": {
    "scrolled": true
   },
   "outputs": [
    {
     "data": {
      "text/html": [
       "<div>\n",
       "<style scoped>\n",
       "    .dataframe tbody tr th:only-of-type {\n",
       "        vertical-align: middle;\n",
       "    }\n",
       "\n",
       "    .dataframe tbody tr th {\n",
       "        vertical-align: top;\n",
       "    }\n",
       "\n",
       "    .dataframe thead th {\n",
       "        text-align: right;\n",
       "    }\n",
       "</style>\n",
       "<table border=\"1\" class=\"dataframe\">\n",
       "  <thead>\n",
       "    <tr style=\"text-align: right;\">\n",
       "      <th></th>\n",
       "      <th>itemname</th>\n",
       "      <th>category</th>\n",
       "      <th>year</th>\n",
       "      <th>month</th>\n",
       "      <th>itemunit</th>\n",
       "      <th>itemvalue</th>\n",
       "    </tr>\n",
       "  </thead>\n",
       "  <tbody>\n",
       "    <tr>\n",
       "      <th>0</th>\n",
       "      <td>環保專業人員合格證書有效張數</td>\n",
       "      <td>其他環保統計</td>\n",
       "      <td>109</td>\n",
       "      <td>7</td>\n",
       "      <td>張</td>\n",
       "      <td>233214.0</td>\n",
       "    </tr>\n",
       "    <tr>\n",
       "      <th>1</th>\n",
       "      <td>環保人員訓練人次</td>\n",
       "      <td>其他環保統計</td>\n",
       "      <td>109</td>\n",
       "      <td>7</td>\n",
       "      <td>人次</td>\n",
       "      <td>2277.0</td>\n",
       "    </tr>\n",
       "    <tr>\n",
       "      <th>2</th>\n",
       "      <td>環保署環境影響評估報告書完成審查件數</td>\n",
       "      <td>其他環保統計</td>\n",
       "      <td>109</td>\n",
       "      <td>7</td>\n",
       "      <td>件</td>\n",
       "      <td>0.0</td>\n",
       "    </tr>\n",
       "    <tr>\n",
       "      <th>3</th>\n",
       "      <td>環保署環境影響評估報告書應處理件數</td>\n",
       "      <td>其他環保統計</td>\n",
       "      <td>109</td>\n",
       "      <td>7</td>\n",
       "      <td>件</td>\n",
       "      <td>3.0</td>\n",
       "    </tr>\n",
       "    <tr>\n",
       "      <th>4</th>\n",
       "      <td>環保署環境影響說明書完成審查件數</td>\n",
       "      <td>其他環保統計</td>\n",
       "      <td>109</td>\n",
       "      <td>7</td>\n",
       "      <td>件</td>\n",
       "      <td>4.0</td>\n",
       "    </tr>\n",
       "  </tbody>\n",
       "</table>\n",
       "</div>"
      ],
      "text/plain": [
       "             itemname category  year  month itemunit  itemvalue\n",
       "0      環保專業人員合格證書有效張數   其他環保統計   109      7        張   233214.0\n",
       "1            環保人員訓練人次   其他環保統計   109      7       人次     2277.0\n",
       "2  環保署環境影響評估報告書完成審查件數   其他環保統計   109      7        件        0.0\n",
       "3   環保署環境影響評估報告書應處理件數   其他環保統計   109      7        件        3.0\n",
       "4    環保署環境影響說明書完成審查件數   其他環保統計   109      7        件        4.0"
      ]
     },
     "execution_count": 11,
     "metadata": {},
     "output_type": "execute_result"
    }
   ],
   "source": [
    "# 輸出頭資料\n",
    "environmental_freindly_data.head()"
   ]
  },
  {
   "cell_type": "code",
   "execution_count": 21,
   "id": "ab25168b",
   "metadata": {},
   "outputs": [
    {
     "data": {
      "text/html": [
       "<div>\n",
       "<style scoped>\n",
       "    .dataframe tbody tr th:only-of-type {\n",
       "        vertical-align: middle;\n",
       "    }\n",
       "\n",
       "    .dataframe tbody tr th {\n",
       "        vertical-align: top;\n",
       "    }\n",
       "\n",
       "    .dataframe thead th {\n",
       "        text-align: right;\n",
       "    }\n",
       "</style>\n",
       "<table border=\"1\" class=\"dataframe\">\n",
       "  <thead>\n",
       "    <tr style=\"text-align: right;\">\n",
       "      <th></th>\n",
       "      <th>itemname</th>\n",
       "      <th>category</th>\n",
       "      <th>year</th>\n",
       "      <th>month</th>\n",
       "      <th>itemunit</th>\n",
       "      <th>itemvalue</th>\n",
       "    </tr>\n",
       "  </thead>\n",
       "  <tbody>\n",
       "    <tr>\n",
       "      <th>95</th>\n",
       "      <td>AQI&gt;100站日數中主要污染物為PM2.5比率</td>\n",
       "      <td>空氣品質保護</td>\n",
       "      <td>109</td>\n",
       "      <td>8</td>\n",
       "      <td>%</td>\n",
       "      <td>0.00</td>\n",
       "    </tr>\n",
       "    <tr>\n",
       "      <th>340</th>\n",
       "      <td>AQI&gt;100站日數中主要污染物為PM2.5比率</td>\n",
       "      <td>空氣品質保護</td>\n",
       "      <td>110</td>\n",
       "      <td>1</td>\n",
       "      <td>%</td>\n",
       "      <td>92.69</td>\n",
       "    </tr>\n",
       "    <tr>\n",
       "      <th>536</th>\n",
       "      <td>AQI&gt;100站日數中主要污染物為PM2.5比率</td>\n",
       "      <td>空氣品質保護</td>\n",
       "      <td>110</td>\n",
       "      <td>5</td>\n",
       "      <td>%</td>\n",
       "      <td>5.56</td>\n",
       "    </tr>\n",
       "    <tr>\n",
       "      <th>144</th>\n",
       "      <td>AQI&gt;100站日數中主要污染物為PM2.5比率</td>\n",
       "      <td>空氣品質保護</td>\n",
       "      <td>109</td>\n",
       "      <td>9</td>\n",
       "      <td>%</td>\n",
       "      <td>0.00</td>\n",
       "    </tr>\n",
       "    <tr>\n",
       "      <th>634</th>\n",
       "      <td>AQI&gt;100站日數中主要污染物為PM2.5比率</td>\n",
       "      <td>空氣品質保護</td>\n",
       "      <td>110</td>\n",
       "      <td>7</td>\n",
       "      <td>%</td>\n",
       "      <td>0.00</td>\n",
       "    </tr>\n",
       "    <tr>\n",
       "      <th>193</th>\n",
       "      <td>AQI&gt;100站日數中主要污染物為PM2.5比率</td>\n",
       "      <td>空氣品質保護</td>\n",
       "      <td>109</td>\n",
       "      <td>10</td>\n",
       "      <td>%</td>\n",
       "      <td>0.00</td>\n",
       "    </tr>\n",
       "    <tr>\n",
       "      <th>928</th>\n",
       "      <td>AQI&gt;100站日數中主要污染物為PM2.5比率</td>\n",
       "      <td>空氣品質保護</td>\n",
       "      <td>111</td>\n",
       "      <td>1</td>\n",
       "      <td>%</td>\n",
       "      <td>93.41</td>\n",
       "    </tr>\n",
       "    <tr>\n",
       "      <th>781</th>\n",
       "      <td>AQI&gt;100站日數中主要污染物為PM2.5比率</td>\n",
       "      <td>空氣品質保護</td>\n",
       "      <td>110</td>\n",
       "      <td>10</td>\n",
       "      <td>%</td>\n",
       "      <td>1.57</td>\n",
       "    </tr>\n",
       "    <tr>\n",
       "      <th>389</th>\n",
       "      <td>AQI&gt;100站日數中主要污染物為PM2.5比率</td>\n",
       "      <td>空氣品質保護</td>\n",
       "      <td>110</td>\n",
       "      <td>2</td>\n",
       "      <td>%</td>\n",
       "      <td>83.41</td>\n",
       "    </tr>\n",
       "  </tbody>\n",
       "</table>\n",
       "</div>"
      ],
      "text/plain": [
       "                     itemname category  year  month itemunit  itemvalue\n",
       "95   AQI>100站日數中主要污染物為PM2.5比率   空氣品質保護   109      8        %       0.00\n",
       "340  AQI>100站日數中主要污染物為PM2.5比率   空氣品質保護   110      1        %      92.69\n",
       "536  AQI>100站日數中主要污染物為PM2.5比率   空氣品質保護   110      5        %       5.56\n",
       "144  AQI>100站日數中主要污染物為PM2.5比率   空氣品質保護   109      9        %       0.00\n",
       "634  AQI>100站日數中主要污染物為PM2.5比率   空氣品質保護   110      7        %       0.00\n",
       "193  AQI>100站日數中主要污染物為PM2.5比率   空氣品質保護   109     10        %       0.00\n",
       "928  AQI>100站日數中主要污染物為PM2.5比率   空氣品質保護   111      1        %      93.41\n",
       "781  AQI>100站日數中主要污染物為PM2.5比率   空氣品質保護   110     10        %       1.57\n",
       "389  AQI>100站日數中主要污染物為PM2.5比率   空氣品質保護   110      2        %      83.41"
      ]
     },
     "execution_count": 21,
     "metadata": {},
     "output_type": "execute_result"
    }
   ],
   "source": [
    "# 排序\n",
    "environmental_freindly_data.sort_values(\"itemname\").head(9)"
   ]
  },
  {
   "cell_type": "code",
   "execution_count": 24,
   "id": "1177ad27",
   "metadata": {
    "scrolled": true
   },
   "outputs": [
    {
     "ename": "ValueError",
     "evalue": "keep must be either \"first\", \"last\" or \"all\"",
     "output_type": "error",
     "traceback": [
      "\u001b[1;31m---------------------------------------------------------------------------\u001b[0m",
      "\u001b[1;31mValueError\u001b[0m                                Traceback (most recent call last)",
      "Input \u001b[1;32mIn [24]\u001b[0m, in \u001b[0;36m<cell line: 1>\u001b[1;34m()\u001b[0m\n\u001b[1;32m----> 1\u001b[0m \u001b[43menvironmental_freindly_data\u001b[49m\u001b[38;5;241;43m.\u001b[39;49m\u001b[43mnlargest\u001b[49m\u001b[43m(\u001b[49m\u001b[38;5;241;43m3\u001b[39;49m\u001b[43m,\u001b[49m\u001b[38;5;124;43m'\u001b[39;49m\u001b[38;5;124;43m一般廢棄物處理量\u001b[39;49m\u001b[38;5;124;43m'\u001b[39;49m\u001b[43m,\u001b[49m\u001b[38;5;124;43m'\u001b[39;49m\u001b[38;5;124;43mitemvalue\u001b[39;49m\u001b[38;5;124;43m'\u001b[39;49m\u001b[43m)\u001b[49m\n",
      "File \u001b[1;32mC:\\ProgramData\\Anaconda3\\lib\\site-packages\\pandas\\core\\frame.py:6690\u001b[0m, in \u001b[0;36mDataFrame.nlargest\u001b[1;34m(self, n, columns, keep)\u001b[0m\n\u001b[0;32m   6585\u001b[0m \u001b[38;5;28;01mdef\u001b[39;00m \u001b[38;5;21mnlargest\u001b[39m(\u001b[38;5;28mself\u001b[39m, n: \u001b[38;5;28mint\u001b[39m, columns: IndexLabel, keep: \u001b[38;5;28mstr\u001b[39m \u001b[38;5;241m=\u001b[39m \u001b[38;5;124m\"\u001b[39m\u001b[38;5;124mfirst\u001b[39m\u001b[38;5;124m\"\u001b[39m) \u001b[38;5;241m-\u001b[39m\u001b[38;5;241m>\u001b[39m DataFrame:\n\u001b[0;32m   6586\u001b[0m     \u001b[38;5;124;03m\"\"\"\u001b[39;00m\n\u001b[0;32m   6587\u001b[0m \u001b[38;5;124;03m    Return the first `n` rows ordered by `columns` in descending order.\u001b[39;00m\n\u001b[0;32m   6588\u001b[0m \n\u001b[1;32m   (...)\u001b[0m\n\u001b[0;32m   6688\u001b[0m \u001b[38;5;124;03m    Brunei      434000    12128      BN\u001b[39;00m\n\u001b[0;32m   6689\u001b[0m \u001b[38;5;124;03m    \"\"\"\u001b[39;00m\n\u001b[1;32m-> 6690\u001b[0m     \u001b[38;5;28;01mreturn\u001b[39;00m \u001b[43malgorithms\u001b[49m\u001b[38;5;241;43m.\u001b[39;49m\u001b[43mSelectNFrame\u001b[49m\u001b[43m(\u001b[49m\u001b[38;5;28;43mself\u001b[39;49m\u001b[43m,\u001b[49m\u001b[43m \u001b[49m\u001b[43mn\u001b[49m\u001b[38;5;241;43m=\u001b[39;49m\u001b[43mn\u001b[49m\u001b[43m,\u001b[49m\u001b[43m \u001b[49m\u001b[43mkeep\u001b[49m\u001b[38;5;241;43m=\u001b[39;49m\u001b[43mkeep\u001b[49m\u001b[43m,\u001b[49m\u001b[43m \u001b[49m\u001b[43mcolumns\u001b[49m\u001b[38;5;241;43m=\u001b[39;49m\u001b[43mcolumns\u001b[49m\u001b[43m)\u001b[49m\u001b[38;5;241m.\u001b[39mnlargest()\n",
      "File \u001b[1;32mC:\\ProgramData\\Anaconda3\\lib\\site-packages\\pandas\\core\\algorithms.py:1257\u001b[0m, in \u001b[0;36mSelectNFrame.__init__\u001b[1;34m(self, obj, n, keep, columns)\u001b[0m\n\u001b[0;32m   1256\u001b[0m \u001b[38;5;28;01mdef\u001b[39;00m \u001b[38;5;21m__init__\u001b[39m(\u001b[38;5;28mself\u001b[39m, obj: DataFrame, n: \u001b[38;5;28mint\u001b[39m, keep: \u001b[38;5;28mstr\u001b[39m, columns: IndexLabel):\n\u001b[1;32m-> 1257\u001b[0m     \u001b[38;5;28;43msuper\u001b[39;49m\u001b[43m(\u001b[49m\u001b[43m)\u001b[49m\u001b[38;5;241;43m.\u001b[39;49m\u001b[38;5;21;43m__init__\u001b[39;49m\u001b[43m(\u001b[49m\u001b[43mobj\u001b[49m\u001b[43m,\u001b[49m\u001b[43m \u001b[49m\u001b[43mn\u001b[49m\u001b[43m,\u001b[49m\u001b[43m \u001b[49m\u001b[43mkeep\u001b[49m\u001b[43m)\u001b[49m\n\u001b[0;32m   1258\u001b[0m     \u001b[38;5;28;01mif\u001b[39;00m \u001b[38;5;129;01mnot\u001b[39;00m is_list_like(columns) \u001b[38;5;129;01mor\u001b[39;00m \u001b[38;5;28misinstance\u001b[39m(columns, \u001b[38;5;28mtuple\u001b[39m):\n\u001b[0;32m   1259\u001b[0m         columns \u001b[38;5;241m=\u001b[39m [columns]\n",
      "File \u001b[1;32mC:\\ProgramData\\Anaconda3\\lib\\site-packages\\pandas\\core\\algorithms.py:1130\u001b[0m, in \u001b[0;36mSelectN.__init__\u001b[1;34m(self, obj, n, keep)\u001b[0m\n\u001b[0;32m   1127\u001b[0m \u001b[38;5;28mself\u001b[39m\u001b[38;5;241m.\u001b[39mkeep \u001b[38;5;241m=\u001b[39m keep\n\u001b[0;32m   1129\u001b[0m \u001b[38;5;28;01mif\u001b[39;00m \u001b[38;5;28mself\u001b[39m\u001b[38;5;241m.\u001b[39mkeep \u001b[38;5;129;01mnot\u001b[39;00m \u001b[38;5;129;01min\u001b[39;00m (\u001b[38;5;124m\"\u001b[39m\u001b[38;5;124mfirst\u001b[39m\u001b[38;5;124m\"\u001b[39m, \u001b[38;5;124m\"\u001b[39m\u001b[38;5;124mlast\u001b[39m\u001b[38;5;124m\"\u001b[39m, \u001b[38;5;124m\"\u001b[39m\u001b[38;5;124mall\u001b[39m\u001b[38;5;124m\"\u001b[39m):\n\u001b[1;32m-> 1130\u001b[0m     \u001b[38;5;28;01mraise\u001b[39;00m \u001b[38;5;167;01mValueError\u001b[39;00m(\u001b[38;5;124m'\u001b[39m\u001b[38;5;124mkeep must be either \u001b[39m\u001b[38;5;124m\"\u001b[39m\u001b[38;5;124mfirst\u001b[39m\u001b[38;5;124m\"\u001b[39m\u001b[38;5;124m, \u001b[39m\u001b[38;5;124m\"\u001b[39m\u001b[38;5;124mlast\u001b[39m\u001b[38;5;124m\"\u001b[39m\u001b[38;5;124m or \u001b[39m\u001b[38;5;124m\"\u001b[39m\u001b[38;5;124mall\u001b[39m\u001b[38;5;124m\"\u001b[39m\u001b[38;5;124m'\u001b[39m)\n",
      "\u001b[1;31mValueError\u001b[0m: keep must be either \"first\", \"last\" or \"all\""
     ]
    }
   ],
   "source": [
    "environmental_freindly_data.nlargest(3,'一般廢棄物處理量','itemvalue')"
   ]
  },
  {
   "cell_type": "code",
   "execution_count": 12,
   "id": "0169a058",
   "metadata": {},
   "outputs": [
    {
     "data": {
      "text/html": [
       "<div>\n",
       "<style scoped>\n",
       "    .dataframe tbody tr th:only-of-type {\n",
       "        vertical-align: middle;\n",
       "    }\n",
       "\n",
       "    .dataframe tbody tr th {\n",
       "        vertical-align: top;\n",
       "    }\n",
       "\n",
       "    .dataframe thead th {\n",
       "        text-align: right;\n",
       "    }\n",
       "</style>\n",
       "<table border=\"1\" class=\"dataframe\">\n",
       "  <thead>\n",
       "    <tr style=\"text-align: right;\">\n",
       "      <th></th>\n",
       "      <th>itemname</th>\n",
       "      <th>category</th>\n",
       "      <th>year</th>\n",
       "      <th>month</th>\n",
       "      <th>itemunit</th>\n",
       "      <th>itemvalue</th>\n",
       "    </tr>\n",
       "  </thead>\n",
       "  <tbody>\n",
       "    <tr>\n",
       "      <th>995</th>\n",
       "      <td>機關團體學校醫院之公害陳情案件數</td>\n",
       "      <td>公害陳情</td>\n",
       "      <td>111</td>\n",
       "      <td>3</td>\n",
       "      <td>件</td>\n",
       "      <td>219.0</td>\n",
       "    </tr>\n",
       "    <tr>\n",
       "      <th>996</th>\n",
       "      <td>其他污染公害陳情案件數</td>\n",
       "      <td>公害陳情</td>\n",
       "      <td>111</td>\n",
       "      <td>3</td>\n",
       "      <td>件</td>\n",
       "      <td>61.0</td>\n",
       "    </tr>\n",
       "    <tr>\n",
       "      <th>997</th>\n",
       "      <td>異味污染物公害陳情案件數</td>\n",
       "      <td>公害陳情</td>\n",
       "      <td>111</td>\n",
       "      <td>3</td>\n",
       "      <td>件</td>\n",
       "      <td>6209.0</td>\n",
       "    </tr>\n",
       "    <tr>\n",
       "      <th>998</th>\n",
       "      <td>廢棄物及環境衛生公害陳情案件數</td>\n",
       "      <td>公害陳情</td>\n",
       "      <td>111</td>\n",
       "      <td>3</td>\n",
       "      <td>件</td>\n",
       "      <td>6618.0</td>\n",
       "    </tr>\n",
       "    <tr>\n",
       "      <th>999</th>\n",
       "      <td>噪音公害陳情案件數</td>\n",
       "      <td>公害陳情</td>\n",
       "      <td>111</td>\n",
       "      <td>3</td>\n",
       "      <td>件</td>\n",
       "      <td>9329.0</td>\n",
       "    </tr>\n",
       "  </tbody>\n",
       "</table>\n",
       "</div>"
      ],
      "text/plain": [
       "             itemname category  year  month itemunit  itemvalue\n",
       "995  機關團體學校醫院之公害陳情案件數     公害陳情   111      3        件      219.0\n",
       "996       其他污染公害陳情案件數     公害陳情   111      3        件       61.0\n",
       "997      異味污染物公害陳情案件數     公害陳情   111      3        件     6209.0\n",
       "998   廢棄物及環境衛生公害陳情案件數     公害陳情   111      3        件     6618.0\n",
       "999         噪音公害陳情案件數     公害陳情   111      3        件     9329.0"
      ]
     },
     "execution_count": 12,
     "metadata": {},
     "output_type": "execute_result"
    }
   ],
   "source": [
    "# 輸出尾資料\n",
    "environmental_freindly_data.tail()"
   ]
  },
  {
   "cell_type": "code",
   "execution_count": null,
   "id": "7b1d5894",
   "metadata": {},
   "outputs": [],
   "source": []
  }
 ],
 "metadata": {
  "kernelspec": {
   "display_name": "Python 3 (ipykernel)",
   "language": "python",
   "name": "python3"
  },
  "language_info": {
   "codemirror_mode": {
    "name": "ipython",
    "version": 3
   },
   "file_extension": ".py",
   "mimetype": "text/x-python",
   "name": "python",
   "nbconvert_exporter": "python",
   "pygments_lexer": "ipython3",
   "version": "3.9.12"
  }
 },
 "nbformat": 4,
 "nbformat_minor": 5
}
