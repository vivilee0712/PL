{
 "cells": [
  {
   "cell_type": "code",
   "execution_count": 2,
   "id": "3f1faea3",
   "metadata": {},
   "outputs": [
    {
     "name": "stdout",
     "output_type": "stream",
     "text": [
      "總償還: 12608\n"
     ]
    }
   ],
   "source": [
    "money=11805\n",
    "dayrate=0.0005\n",
    "month1=150\n",
    "month2=300\n",
    "total=money*(1+dayrate)**59+month1+month2\n",
    "print(\"總償還:\",int(total))"
   ]
  },
  {
   "cell_type": "code",
   "execution_count": null,
   "id": "7dac348f",
   "metadata": {},
   "outputs": [],
   "source": []
  }
 ],
 "metadata": {
  "kernelspec": {
   "display_name": "Python 3 (ipykernel)",
   "language": "python",
   "name": "python3"
  },
  "language_info": {
   "codemirror_mode": {
    "name": "ipython",
    "version": 3
   },
   "file_extension": ".py",
   "mimetype": "text/x-python",
   "name": "python",
   "nbconvert_exporter": "python",
   "pygments_lexer": "ipython3",
   "version": "3.9.12"
  }
 },
 "nbformat": 4,
 "nbformat_minor": 5
}
